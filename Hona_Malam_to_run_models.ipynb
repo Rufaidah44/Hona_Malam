{
  "nbformat": 4,
  "nbformat_minor": 0,
  "metadata": {
    "colab": {
      "name": "Hona Malam to run models",
      "provenance": [],
      "mount_file_id": "1-JnrMiIWQYN9_k1ruxrj30rgjEGWOHCa",
      "authorship_tag": "ABX9TyNcJBVzdax5KLvEGuUu5ZlI",
      "include_colab_link": true
    },
    "kernelspec": {
      "name": "python3",
      "display_name": "Python 3"
    }
  },
  "cells": [
    {
      "cell_type": "markdown",
      "metadata": {
        "id": "view-in-github",
        "colab_type": "text"
      },
      "source": [
        "<a href=\"https://colab.research.google.com/github/Rufaidah44/Hona_Malam/blob/main/Hona_Malam_to_run_models.ipynb\" target=\"_parent\"><img src=\"https://colab.research.google.com/assets/colab-badge.svg\" alt=\"Open In Colab\"/></a>"
      ]
    },
    {
      "cell_type": "markdown",
      "metadata": {
        "id": "3gN9D8GLal0T"
      },
      "source": [
        "# Chat Bot\r\n"
      ]
    },
    {
      "cell_type": "code",
      "metadata": {
        "colab": {
          "base_uri": "https://localhost:8080/",
          "height": 398
        },
        "id": "SSPqT0veao9E",
        "outputId": "d87c609a-f509-48a3-fac2-7ea9da29c9de"
      },
      "source": [
        "# libraries\r\n",
        "import random\r\n",
        "import numpy as np\r\n",
        "import pickle\r\n",
        "import json\r\n",
        "from flask import Flask, render_template, request\r\n",
        "from flask_ngrok import run_with_ngrok\r\n",
        "import nltk\r\n",
        "from keras.models import load_model\r\n",
        "from nltk.stem import WordNetLemmatizer\r\n",
        "lemmatizer = WordNetLemmatizer()\r\n",
        "\r\n",
        "\r\n",
        "# chat initialization\r\n",
        "model = load_model(\"chatbot_model.h5\")\r\n",
        "intents = json.loads(open(\"intents.json\").read())\r\n",
        "words = pickle.load(open(\"words.pkl\", \"rb\"))\r\n",
        "classes = pickle.load(open(\"classes.pkl\", \"rb\"))\r\n",
        "\r\n",
        "app = Flask(__name__, template_folder='drive/MyDrive/Colab Notebooks/web_chatbot/templates')\r\n",
        "run_with_ngrok(app) \r\n",
        "\r\n",
        "@app.route(\"/\")\r\n",
        "def home():\r\n",
        "    return render_template(\"index.html\")\r\n"
      ],
      "execution_count": 11,
      "outputs": [
        {
          "output_type": "error",
          "ename": "OSError",
          "evalue": "ignored",
          "traceback": [
            "\u001b[0;31m---------------------------------------------------------------------------\u001b[0m",
            "\u001b[0;31mOSError\u001b[0m                                   Traceback (most recent call last)",
            "\u001b[0;32m<ipython-input-11-dd2e5f038b7a>\u001b[0m in \u001b[0;36m<module>\u001b[0;34m()\u001b[0m\n\u001b[1;32m     13\u001b[0m \u001b[0;34m\u001b[0m\u001b[0m\n\u001b[1;32m     14\u001b[0m \u001b[0;31m# chat initialization\u001b[0m\u001b[0;34m\u001b[0m\u001b[0;34m\u001b[0m\u001b[0;34m\u001b[0m\u001b[0m\n\u001b[0;32m---> 15\u001b[0;31m \u001b[0mmodel\u001b[0m \u001b[0;34m=\u001b[0m \u001b[0mload_model\u001b[0m\u001b[0;34m(\u001b[0m\u001b[0;34m\"chatbot_model.h5\"\u001b[0m\u001b[0;34m)\u001b[0m\u001b[0;34m\u001b[0m\u001b[0;34m\u001b[0m\u001b[0m\n\u001b[0m\u001b[1;32m     16\u001b[0m \u001b[0mintents\u001b[0m \u001b[0;34m=\u001b[0m \u001b[0mjson\u001b[0m\u001b[0;34m.\u001b[0m\u001b[0mloads\u001b[0m\u001b[0;34m(\u001b[0m\u001b[0mopen\u001b[0m\u001b[0;34m(\u001b[0m\u001b[0;34m\"intents.json\"\u001b[0m\u001b[0;34m)\u001b[0m\u001b[0;34m.\u001b[0m\u001b[0mread\u001b[0m\u001b[0;34m(\u001b[0m\u001b[0;34m)\u001b[0m\u001b[0;34m)\u001b[0m\u001b[0;34m\u001b[0m\u001b[0;34m\u001b[0m\u001b[0m\n\u001b[1;32m     17\u001b[0m \u001b[0mwords\u001b[0m \u001b[0;34m=\u001b[0m \u001b[0mpickle\u001b[0m\u001b[0;34m.\u001b[0m\u001b[0mload\u001b[0m\u001b[0;34m(\u001b[0m\u001b[0mopen\u001b[0m\u001b[0;34m(\u001b[0m\u001b[0;34m\"words.pkl\"\u001b[0m\u001b[0;34m,\u001b[0m \u001b[0;34m\"rb\"\u001b[0m\u001b[0;34m)\u001b[0m\u001b[0;34m)\u001b[0m\u001b[0;34m\u001b[0m\u001b[0;34m\u001b[0m\u001b[0m\n",
            "\u001b[0;32m/usr/local/lib/python3.7/dist-packages/tensorflow/python/keras/saving/save.py\u001b[0m in \u001b[0;36mload_model\u001b[0;34m(filepath, custom_objects, compile, options)\u001b[0m\n\u001b[1;32m    209\u001b[0m       \u001b[0mfilepath\u001b[0m \u001b[0;34m=\u001b[0m \u001b[0mpath_to_string\u001b[0m\u001b[0;34m(\u001b[0m\u001b[0mfilepath\u001b[0m\u001b[0;34m)\u001b[0m\u001b[0;34m\u001b[0m\u001b[0;34m\u001b[0m\u001b[0m\n\u001b[1;32m    210\u001b[0m       \u001b[0;32mif\u001b[0m \u001b[0misinstance\u001b[0m\u001b[0;34m(\u001b[0m\u001b[0mfilepath\u001b[0m\u001b[0;34m,\u001b[0m \u001b[0msix\u001b[0m\u001b[0;34m.\u001b[0m\u001b[0mstring_types\u001b[0m\u001b[0;34m)\u001b[0m\u001b[0;34m:\u001b[0m\u001b[0;34m\u001b[0m\u001b[0;34m\u001b[0m\u001b[0m\n\u001b[0;32m--> 211\u001b[0;31m         \u001b[0mloader_impl\u001b[0m\u001b[0;34m.\u001b[0m\u001b[0mparse_saved_model\u001b[0m\u001b[0;34m(\u001b[0m\u001b[0mfilepath\u001b[0m\u001b[0;34m)\u001b[0m\u001b[0;34m\u001b[0m\u001b[0;34m\u001b[0m\u001b[0m\n\u001b[0m\u001b[1;32m    212\u001b[0m         \u001b[0;32mreturn\u001b[0m \u001b[0msaved_model_load\u001b[0m\u001b[0;34m.\u001b[0m\u001b[0mload\u001b[0m\u001b[0;34m(\u001b[0m\u001b[0mfilepath\u001b[0m\u001b[0;34m,\u001b[0m \u001b[0mcompile\u001b[0m\u001b[0;34m,\u001b[0m \u001b[0moptions\u001b[0m\u001b[0;34m)\u001b[0m\u001b[0;34m\u001b[0m\u001b[0;34m\u001b[0m\u001b[0m\n\u001b[1;32m    213\u001b[0m \u001b[0;34m\u001b[0m\u001b[0m\n",
            "\u001b[0;32m/usr/local/lib/python3.7/dist-packages/tensorflow/python/saved_model/loader_impl.py\u001b[0m in \u001b[0;36mparse_saved_model\u001b[0;34m(export_dir)\u001b[0m\n\u001b[1;32m    112\u001b[0m                   (export_dir,\n\u001b[1;32m    113\u001b[0m                    \u001b[0mconstants\u001b[0m\u001b[0;34m.\u001b[0m\u001b[0mSAVED_MODEL_FILENAME_PBTXT\u001b[0m\u001b[0;34m,\u001b[0m\u001b[0;34m\u001b[0m\u001b[0;34m\u001b[0m\u001b[0m\n\u001b[0;32m--> 114\u001b[0;31m                    constants.SAVED_MODEL_FILENAME_PB))\n\u001b[0m\u001b[1;32m    115\u001b[0m \u001b[0;34m\u001b[0m\u001b[0m\n\u001b[1;32m    116\u001b[0m \u001b[0;34m\u001b[0m\u001b[0m\n",
            "\u001b[0;31mOSError\u001b[0m: SavedModel file does not exist at: chatbot_model.h5/{saved_model.pbtxt|saved_model.pb}"
          ]
        }
      ]
    },
    {
      "cell_type": "code",
      "metadata": {
        "id": "3mgmUMaRayDK"
      },
      "source": [
        "@app.route(\"/get\", methods=[\"POST\"])\r\n",
        "def chatbot_response():\r\n",
        "    msg = request.form[\"msg\"]\r\n",
        "    if msg.startswith('my name is'):\r\n",
        "        name = msg[11:]\r\n",
        "        ints = predict_class(msg, model)\r\n",
        "        res1 = getResponse(ints, intents)\r\n",
        "        res =res1.replace(\"{n}\",name)\r\n",
        "    elif msg.startswith('hi my name is'):\r\n",
        "        name = msg[14:]\r\n",
        "        ints = predict_class(msg, model)\r\n",
        "        res1 = getResponse(ints, intents)\r\n",
        "        res =res1.replace(\"{n}\",name)\r\n",
        "    else:\r\n",
        "        ints = predict_class(msg, model)\r\n",
        "        res = getResponse(ints, intents)\r\n",
        "    return res"
      ],
      "execution_count": null,
      "outputs": []
    },
    {
      "cell_type": "code",
      "metadata": {
        "id": "DHB6uLVja13s"
      },
      "source": [
        "def clean_up_sentence(sentence):\r\n",
        "    sentence_words = nltk.word_tokenize(sentence)\r\n",
        "    sentence_words = [lemmatizer.lemmatize(word.lower()) for word in sentence_words]\r\n",
        "    return sentence_words\r\n",
        "\r\n",
        "\r\n",
        "# return bag of words array: 0 or 1 for each word in the bag that exists in the sentence\r\n",
        "def bow(sentence, words, show_details=True):\r\n",
        "    # tokenize the pattern\r\n",
        "    sentence_words = clean_up_sentence(sentence)\r\n",
        "    # bag of words - matrix of N words, vocabulary matrix\r\n",
        "    bag = [0] * len(words)\r\n",
        "    for s in sentence_words:\r\n",
        "        for i, w in enumerate(words):\r\n",
        "            if w == s:\r\n",
        "                # assign 1 if current word is in the vocabulary position\r\n",
        "                bag[i] = 1\r\n",
        "                if show_details:\r\n",
        "                    print(\"found in bag: %s\" % w)\r\n",
        "    return np.array(bag)\r\n"
      ],
      "execution_count": null,
      "outputs": []
    },
    {
      "cell_type": "code",
      "metadata": {
        "id": "PP6LOs5Ga4nW"
      },
      "source": [
        "def predict_class(sentence, model):\r\n",
        "    # filter out predictions below a threshold\r\n",
        "    p = bow(sentence, words, show_details=False)\r\n",
        "    res = model.predict(np.array([p]))[0]\r\n",
        "    ERROR_THRESHOLD = 0.25\r\n",
        "    results = [[i, r] for i, r in enumerate(res) if r > ERROR_THRESHOLD]\r\n",
        "    # sort by strength of probability\r\n",
        "    results.sort(key=lambda x: x[1], reverse=True)\r\n",
        "    return_list = []\r\n",
        "    for r in results:\r\n",
        "        return_list.append({\"intent\": classes[r[0]], \"probability\": str(r[1])})\r\n",
        "    return return_list\r\n",
        "\r\n",
        "\r\n",
        "def getResponse(ints, intents_json):\r\n",
        "    tag = ints[0][\"intent\"]\r\n",
        "    list_of_intents = intents_json[\"intents\"]\r\n",
        "    for i in list_of_intents:\r\n",
        "        if i[\"tag\"] == tag:\r\n",
        "            result = random.choice(i[\"responses\"])\r\n",
        "            break\r\n",
        "    return result\r\n",
        "\r\n",
        "\r\n",
        "\r\n",
        "if __name__ == \"__main__\":\r\n",
        "    app.run()"
      ],
      "execution_count": null,
      "outputs": []
    },
    {
      "cell_type": "markdown",
      "metadata": {
        "id": "RgmaykvcitEk"
      },
      "source": [
        "# Classification Images\r\n"
      ]
    },
    {
      "cell_type": "code",
      "metadata": {
        "id": "corMJARSeidp"
      },
      "source": [
        "!pip install flask_ngrok\r\n",
        "!pip install flask_uploads\r\n",
        "!pip install pip install werkzeug==0.16.0"
      ],
      "execution_count": null,
      "outputs": []
    },
    {
      "cell_type": "code",
      "metadata": {
        "id": "9fo-FWfqZx8u"
      },
      "source": [
        "from werkzeug.utils import secure_filename\r\n",
        "from werkzeug.datastructures import  FileStorage\r\n",
        "from flask_uploads import UploadSet\r\n",
        "from flask_uploads import configure_uploads\r\n",
        "from flask_uploads import IMAGES\r\n",
        "from keras.preprocessing.image import load_img\r\n",
        "from keras.preprocessing import image\r\n",
        "from flask_ngrok import run_with_ngrok\r\n",
        "import flask\r\n",
        "from flask import Flask, render_template, request\r\n",
        "from keras.models import load_model\r\n",
        "import numpy as np\r\n",
        "\r\n",
        "model = load_model(\"/content/image_my_h5_model.h5\")"
      ],
      "execution_count": null,
      "outputs": []
    },
    {
      "cell_type": "code",
      "metadata": {
        "id": "SkIBszxGhebc"
      },
      "source": [
        "from keras.preprocessing.image import ImageDataGenerator\r\n",
        "\r\n",
        "pred=model.predict(validation_generator,\r\n",
        "steps=validation_generator.samples // BATCH_SIZE,\r\n",
        "verbose=1)"
      ],
      "execution_count": null,
      "outputs": []
    },
    {
      "cell_type": "code",
      "metadata": {
        "id": "uMuL_uK4ZiC-"
      },
      "source": [
        "model = load_model(\"/content/image_my_h5_model.h5\")\r\n",
        "\r\n",
        "\r\n",
        "app = flask.Flask(__name__, template_folder='drive/MyDrive/Colab Notebooks/web_chatbot/templates')\r\n",
        "run_with_ngrok(app)\r\n",
        "#app = Flask(__name__)\r\n",
        "\r\n",
        "photos = UploadSet('photos', IMAGES)\r\n",
        "\r\n",
        "# path for saving uploaded images\r\n",
        "app.config['UPLOADED_PHOTOS_DEST'] = './static/img'\r\n",
        "configure_uploads(app, photos)\r\n",
        "\r\n",
        "# professionals have standards :p\r\n",
        "#@app.route('/home', methods=['GET', 'POST'])\r\n",
        "#def home():\r\n",
        "#   welcome = \"Hello, World !\"\r\n",
        "#   return welcome\r\n",
        "\r\n",
        "# the main route for upload and prediction\r\n",
        "@app.route('/', methods=['GET', 'POST'])\r\n",
        "def upload():\r\n",
        "    if request.method == 'POST' and 'photo' in request.files:\r\n",
        "        # save the image\r\n",
        "        filename = photos.save(request.files['photo'])\r\n",
        "        # load the image\r\n",
        "        path='./static/img/'+filename\r\n",
        "        img = image.load_img(path, target_size=(224, 224))\r\n",
        "\r\n",
        "        x = image.img_to_array(img)\r\n",
        "        img1 = np.array(x).astype('float32')/255\r\n",
        "        #img2 = transform.resize(img1, (224, 224))\r\n",
        "        #x=np.expand_dims(x, axis=0)\r\n",
        "        img = np.expand_dims(img1, axis=0)\r\n",
        "        img = np.vstack([img])\r\n",
        "        r = model.predict(img)\r\n",
        "\r\n",
        "        names= dict((v,k) for k,v in labels.items())\r\n",
        "        index = np.argmax(r)\r\n",
        "        name=names.get(index)\r\n",
        "\r\n",
        "        p=round(r.max()*100, 3)  #to find maximum score\r\n",
        "        names= dict((v,k) for k,v in labels.items())\r\n",
        "        value = np.argmax(r)\r\n",
        "\r\n",
        "        # list out keys and values separately\r\n",
        "        key_list = list(names.keys())\r\n",
        "        val_list = list(names.values())\r\n",
        "        # print key with val 100\r\n",
        "        position = val_list.index(value)\r\n",
        "        answer = \" :صورة المعلم المدخله هي لـ\"+ str(key_list[position])\r\n",
        "        #plt.imshow(img1)\r\n",
        "        return answer\r\n",
        "\r\n",
        "\r\n",
        "    # web page to show before the POST request containing the image\r\n",
        "    return render_template('upload.html')\r\n",
        "\r\n",
        "\r\n",
        "if __name__ == '__main__':\r\n",
        "    app.run()"
      ],
      "execution_count": null,
      "outputs": []
    },
    {
      "cell_type": "code",
      "metadata": {
        "id": "3s9rYbTQaW4P"
      },
      "source": [
        ""
      ],
      "execution_count": null,
      "outputs": []
    }
  ]
}